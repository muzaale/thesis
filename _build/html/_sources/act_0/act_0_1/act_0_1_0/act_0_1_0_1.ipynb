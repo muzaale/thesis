{
 "cells": [
  {
   "cell_type": "markdown",
   "metadata": {},
   "source": [
    "# Scenario \n",
    " \n",
    "### Aim 1a\n",
    "![](https://github.com/muzaale/muzaale.github.io/blob/main/thesis/donor_nondonor.png?raw=true)\n",
    "\n",
    "\n",
    "---\n",
    "\n",
    "### Aim 1b\n",
    "![](https://github.com/muzaale/muzaale.github.io/blob/main/thesis/donor_nondonor_esrd.png?raw=true)\n",
    "\n",
    "---\n",
    "\n",
    "![](https://github.com/muzaale/muzaale.github.io/blob/main/thesis/nejm_table3_s6.png?raw=true)"
   ]
  }
 ],
 "metadata": {
  "kernelspec": {
   "display_name": "Python 3",
   "language": "python",
   "name": "python3"
  },
  "language_info": {
   "codemirror_mode": {
    "name": "ipython",
    "version": 3
   },
   "file_extension": ".py",
   "mimetype": "text/x-python",
   "name": "python",
   "nbconvert_exporter": "python",
   "pygments_lexer": "ipython3",
   "version": "3.11.4"
  },
  "orig_nbformat": 4
 },
 "nbformat": 4,
 "nbformat_minor": 2
}
