{
 "cells": [
  {
   "cell_type": "markdown",
   "metadata": {},
   "source": [
    "# Cohort\n",
    "\n",
    "### Aim 2\n",
    "\n",
    "![](https://github.com/muzaale/muzaale.github.io/blob/main/thesis/Hospitalization.png?raw=true)\n",
    "\n",
    "---\n",
    "\n",
    "![](https://github.com/muzaale/muzaale.github.io/blob/main/thesis/htndm.png?raw=true)\n",
    "\n"
   ]
  }
 ],
 "metadata": {
  "kernelspec": {
   "display_name": "Python 3",
   "language": "python",
   "name": "python3"
  },
  "language_info": {
   "codemirror_mode": {
    "name": "ipython",
    "version": 3
   },
   "file_extension": ".py",
   "mimetype": "text/x-python",
   "name": "python",
   "nbconvert_exporter": "python",
   "pygments_lexer": "ipython3",
   "version": "3.11.4"
  }
 },
 "nbformat": 4,
 "nbformat_minor": 2
}