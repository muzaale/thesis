{
 "cells": [
  {
   "cell_type": "markdown",
   "metadata": {},
   "source": [
    "# WebApps\n",
    "\n",
    "1. Rapid deployment after clinical studies\n",
    "   - Expand to more outcomes of interest\n",
    "   - Only demonstrating Aims 1 & 3 for now\n",
    "2. Accessible user-interface encoding all the \"science\" for the general public\n",
    "3. Open source and ease of collaboration\n",
    "4. Quick feedback loop\n",
    "5. Iterative improvements"
   ]
  }
 ],
 "metadata": {
  "kernelspec": {
   "display_name": "Python 3",
   "language": "python",
   "name": "python3"
  },
  "language_info": {
   "codemirror_mode": {
    "name": "ipython",
    "version": 3
   },
   "file_extension": ".py",
   "mimetype": "text/x-python",
   "name": "python",
   "nbconvert_exporter": "python",
   "pygments_lexer": "ipython3",
   "version": "3.11.4"
  }
 },
 "nbformat": 4,
 "nbformat_minor": 2
}