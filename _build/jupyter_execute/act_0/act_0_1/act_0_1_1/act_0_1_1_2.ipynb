{
 "cells": [
  {
   "cell_type": "markdown",
   "metadata": {},
   "source": [
    "# Limitations\n",
    "\n",
    "- Geriatric syndromes are poorly documented in existing databases\n",
    "- National cohort of older donors tracking the interaction of aging and 50% nephron loss doesn't exist\n",
    "- Insufficient time to use [novel techniques](https://medinform.jmir.org/2019/1/e13039/) to harness these missing data\n",
    "- But these are opportunities for collaboration and for R21/R01 grants \n"
   ]
  }
 ],
 "metadata": {
  "kernelspec": {
   "display_name": "Python 3",
   "language": "python",
   "name": "python3"
  },
  "language_info": {
   "codemirror_mode": {
    "name": "ipython",
    "version": 3
   },
   "file_extension": ".py",
   "mimetype": "text/x-python",
   "name": "python",
   "nbconvert_exporter": "python",
   "pygments_lexer": "ipython3",
   "version": "3.11.4"
  }
 },
 "nbformat": 4,
 "nbformat_minor": 2
}