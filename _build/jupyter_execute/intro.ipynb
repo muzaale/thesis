{
 "cells": [
  {
   "cell_type": "markdown",
   "metadata": {},
   "source": [
    "# Perioperative and long-term risks following nephrectomy in older living kidney donors\n",
    "\n",
    "## Abimereki D. Muzaale\n",
    "\n",
    "![](https://www.tmc.edu/news/wp-content/uploads/sites/2/2019/08/kidney-copy.jpg)\n",
    "\n",
    "### Thesis Committee\n",
    "\n",
    "- Dorry Segev: Research Mentor\n",
    "- Julie Hoover-Fong: Academic Mentor\n",
    "- Brian Caffo: Committee Chair\n",
    "- Betsy King: Transplant Surgery\n",
    "- Fabian Johnston: Surgery/GTPCI\n",
    "- Alden Gross: Aging/Gerontology"
   ]
  }
 ],
 "metadata": {
  "kernelspec": {
   "display_name": "Python 3",
   "language": "python",
   "name": "python3"
  },
  "language_info": {
   "codemirror_mode": {
    "name": "ipython",
    "version": 3
   },
   "file_extension": ".py",
   "mimetype": "text/x-python",
   "name": "python",
   "nbconvert_exporter": "python",
   "pygments_lexer": "ipython3",
   "version": "3.11.4"
  }
 },
 "nbformat": 4,
 "nbformat_minor": 2
}