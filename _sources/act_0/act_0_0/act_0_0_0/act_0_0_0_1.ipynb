{
 "cells": [
  {
   "cell_type": "markdown",
   "metadata": {},
   "source": [
    "# Timeline \n",
    "\n",
    "|      **YEAR**        | 2|      |      |      | 3|      |      |      | 4|      |      |      | 5 |      |      |      |\n",
    "|----------------|--------|------|------|------|--------|------|------|------|--------|------|------|------|--------|------|------|------|\n",
    "| **TERM**       | 1      | 2    | 3    | 4    | 1      | 2    | 3    | 4    | 1      | 2    | 3    | 4    | 1      | 2    | 3    | 4    |\n",
    "| **Preliminary Oral Exam $^1$** |        |      | ✔    |      |        |      |      |      |        |      |      |      |        |      |      |      |\n",
    "| **Secure Data Use Agreements $^2$** |        |      |      | ✔    | ✔    | ✔    |      |      |        |      |      |      |        |      |      |      |\n",
    "| **Access to Datasets $^3$**    |        |      |      |      |      | ✔    | ✔    |      |        |      |      |      |        |      |      |      |\n",
    "| **Curating Datasets $^4$**    |        |      |      |      |      |      |      | ✔    | ✔    |      |      |      |        |      |      |      |\n",
    "| **Analysis $^5$** |        |      |      |      |      |      |      |      |      | ✔    | ✔    | ✔    |      |      |      |      |\n",
    "| **Iterate $^6$** |        |      |      |      |      |      |      |      |      |      |      | ✔    | ✔    | ✔    |      |      |\n",
    "| **Draft Thesis $^7$** |        |      |      |      |      |      |      |      |      |      |      |      |     |    ✔ |     ✔ |      |\n",
    "| **Thesis Defense $^8$** |        |      |      |      |      |      |      |      |      |      |      |      |      |    |   ✔    |      |\n",
    "| **Publish Manuscripts $^9$** |        |      |      |      |      |      |      |      |      |      |      |      |      |      |      | ✔    |\n",
    "\n",
    "\n",
    "#\n",
    "\n",
    "# \n",
    "\n",
    "1. Preliminary Oral Exam\n",
    "   - April 1, 2022\n",
    "   - Propose research topic and specific aims\n",
    "2. Secure Data Use Agreements\n",
    "   - National center for Health Statistics (NCHS)\n",
    "   - Scientific Registry of Transplant Recipients (SRTR)\n",
    "3. Access to Datasets\n",
    "   - Remove access to NCHS in Hyattsville, MD\n",
    "   - Remove access to Donor registry in Minneapolis, MN\n",
    "4. Curating Datasets\n",
    "   - Prepare NCHS & SRTR datasets for specified statistical analyses\n",
    "   - Refine and beta-test Stata/R scripts for this purpose\n",
    "5. Analysis\n",
    "   - Exploratory analyses\n",
    "   - Preliminary analyses\n",
    "   - `Discuss preliminary findings with mentors`\n",
    "6. Iterations\n",
    "   - Receive feedback from mentors\n",
    "   - Incorporate feedback in updated analysis\n",
    "   - Further discussions with mentors\n",
    "7. Draft Thesis\n",
    "   - Prepare draft of Doctoral Thesis\n",
    "   - Make revisions based on feedback\n",
    "8. Thesis Defense\n",
    "   - Schedule date\n",
    "   - Defend\n",
    "9. Publish Manuscripts\n",
    "   - Write manuscripts derived from specific aims of Thesis\n",
    "   - Submit for peer-review"
   ]
  }
 ],
 "metadata": {
  "kernelspec": {
   "display_name": "Python 3",
   "language": "python",
   "name": "python3"
  },
  "language_info": {
   "codemirror_mode": {
    "name": "ipython",
    "version": 3
   },
   "file_extension": ".py",
   "mimetype": "text/x-python",
   "name": "python",
   "nbconvert_exporter": "python",
   "pygments_lexer": "ipython3",
   "version": "3.11.4"
  },
  "orig_nbformat": 4
 },
 "nbformat": 4,
 "nbformat_minor": 2
}
