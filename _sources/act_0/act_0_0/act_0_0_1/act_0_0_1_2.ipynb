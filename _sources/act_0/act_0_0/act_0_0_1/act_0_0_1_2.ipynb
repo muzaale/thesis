{
 "cells": [
  {
   "cell_type": "markdown",
   "metadata": {},
   "source": [
    "#\n",
    "\n",
    "#### Results\n",
    "   \n",
    "- Donors (OPTN)\n",
    "   - Missingness on key risk factors \n",
    "      - **uACR** is 100% missing for donors\n",
    "      - **BMI, SBP, DBP,** and **eGFR** conditionally missing (e.g. before 2005)\n",
    "      - Only **Age, Race,** and **Sex** are 0% missing throughout the study period\n",
    "   - However, nondonor base-case informed by our prior beliefs about characteristics eligible donors\n",
    "   - Thus, instead of detailing history, exam, and lab findings, we only outline demographics:\n",
    "      - Age\n",
    "      - Race\n",
    "      - Sex\n",
    "\n",
    "- Nondonors (NHANES)\n",
    "   - We describe a base-case below:\n",
    "      - 60y\n",
    "      - White\n",
    "      - Female\n",
    "      - College Education\n",
    "      - BMI $24\\ kg/m^2$\n",
    "      - SBP $120\\ mmHg$ \n",
    "      - DBP $75\\ mmHg$\n",
    "      - eGFR $90\\ ml/min/1.73m^2$\n",
    "      - uACR 4 $mg/g$"
   ]
  }
 ],
 "metadata": {
  "kernelspec": {
   "display_name": "Python 3",
   "language": "python",
   "name": "python3"
  },
  "language_info": {
   "codemirror_mode": {
    "name": "ipython",
    "version": 3
   },
   "file_extension": ".py",
   "mimetype": "text/x-python",
   "name": "python",
   "nbconvert_exporter": "python",
   "pygments_lexer": "ipython3",
   "version": "3.11.4"
  },
  "orig_nbformat": 4
 },
 "nbformat": 4,
 "nbformat_minor": 2
}
