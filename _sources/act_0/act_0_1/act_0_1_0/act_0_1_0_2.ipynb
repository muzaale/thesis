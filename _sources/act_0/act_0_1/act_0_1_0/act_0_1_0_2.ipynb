{
 "cells": [
  {
   "cell_type": "markdown",
   "metadata": {},
   "source": [
    "# Inferences\n",
    "\n",
    "- Will show that impact of donation on this base-case scenario is:\n",
    "   - SBP $+20\\text{mmHg}$\n",
    "   - eGFR $-30\\text{ml/min}$\n",
    "- This is the nephrectomy attributable risk\n",
    "- A webApp (online risk calculator) will allow a user to personalize the risk estimates\n",
    "\n",
    "- Our inferences have `face validity`:\n",
    "   - Grams et al NEJM 2016 reports similar risk to ours using scenario 6 of Table 3\n",
    "   - Donor followup studies report a 30% reduction in baseline eGFR after the 1st year of followup\n",
    "   - Increased blood pressure is observed following nephrectomy"
   ]
  }
 ],
 "metadata": {
  "kernelspec": {
   "display_name": "Python 3",
   "language": "python",
   "name": "python3"
  },
  "language_info": {
   "codemirror_mode": {
    "name": "ipython",
    "version": 3
   },
   "file_extension": ".py",
   "mimetype": "text/x-python",
   "name": "python",
   "nbconvert_exporter": "python",
   "pygments_lexer": "ipython3",
   "version": "3.11.4"
  },
  "orig_nbformat": 4
 },
 "nbformat": 4,
 "nbformat_minor": 2
}
