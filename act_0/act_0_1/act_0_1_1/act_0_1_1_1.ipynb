{
 "cells": [
  {
   "cell_type": "markdown",
   "metadata": {},
   "source": [
    "# Inferences\n",
    "\n",
    "- Impact of donation on the base-case scenario in Aim 1:\n",
    "   - SBP $+20\\text{mmHg}$\n",
    "   - eGFR $-30\\text{ml/min}$\n",
    "- This is the nephrectomy attributable change associated with a 5.2-fold increase in risk of ESRD but no increase in mortality risk\n",
    "- What causes ESRD in donors?\n",
    "   - Diabetes and hypertension are documented to be the leading causes (same as general population)\n",
    "   - Although diabetes is an absolute contraindication and hypertension a relative contraindiction:\n",
    "      - Some older donors developed these conditions after donating\n",
    "      - Besides age, the leading risk factor for hospitalization 20-30 after donation\n",
    "      - These two comorbidities were the leading risk factors for hospitalization in a cohort of aging donors\n",
    "\n",
    "- A webApp (online risk calculator) will allow a user to personalize the risk estimates\n",
    "\n",
    "- Our inferences have `face validity`:\n",
    "   - Grams et al NEJM 2016 reports similar risk to ours using scenario 6 of Table 3\n",
    "   - Donor followup studies report a 30% reduction in baseline eGFR after the 1st year of followup\n",
    "   - Increased blood pressure is observed following nephrectomy\n",
    "   - Lower eGFR + DM/HTN = Sooner reach ESRD than in scenario without donation"
   ]
  }
 ],
 "metadata": {
  "kernelspec": {
   "display_name": "Python 3",
   "language": "python",
   "name": "python3"
  },
  "language_info": {
   "codemirror_mode": {
    "name": "ipython",
    "version": 3
   },
   "file_extension": ".py",
   "mimetype": "text/x-python",
   "name": "python",
   "nbconvert_exporter": "python",
   "pygments_lexer": "ipython3",
   "version": "3.11.4"
  },
  "orig_nbformat": 4
 },
 "nbformat": 4,
 "nbformat_minor": 2
}
